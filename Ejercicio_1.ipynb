{
 "cells": [
  {
   "cell_type": "markdown",
   "metadata": {},
   "source": [
    "# Ejercicio 1: \n",
    "\n",
    "Escribe un programa en Python que use Biopython para hacer una búsqueda BLAST de una secuencia de ADN que introduzcas por teclado. \n",
    "El programa debe mostrar por pantalla el número de resultados obtenidos, el E-value del mejor resultado y la descripción de la secuencia más similar. \n",
    "Hágalo de forma online y local."
   ]
  },
  {
   "cell_type": "markdown",
   "metadata": {},
   "source": [
    "## 1. BLAST Local"
   ]
  },
  {
   "cell_type": "markdown",
   "metadata": {},
   "source": [
    "### 1.1. Instalación de BLAST\n",
    "\n",
    "1. Se descarga la versión para el equipo de BLAST desde el siguiente enlace: [BLAST](https://ftp.ncbi.nlm.nih.gov/blast/executables/blast+/LATEST/)\n",
    "2. Se ejecuta, en nuestro caso, el *.exe* descargado y se instala en el equipo.\n",
    "3. Se configura el *path* de BLAST como variable de entorno del sistema.\n",
    "4. Se verifica la instalación con el comando `blastn --version`.\n",
    "5. Se descarga la base de datos de *nt* mediante el comando `perl update_blastdb.pl --decompress nt`"
   ]
  },
  {
   "cell_type": "markdown",
   "metadata": {},
   "source": [
    "### 1.2. Secuencia de ADN por teclado"
   ]
  },
  {
   "cell_type": "code",
   "execution_count": 1,
   "metadata": {},
   "outputs": [],
   "source": [
    "from debug_sequence.functions import check_sequence"
   ]
  },
  {
   "cell_type": "code",
   "execution_count": 2,
   "metadata": {},
   "outputs": [],
   "source": [
    "sequence = input(\"Introduce la secuencia de ADN: \").strip()\n",
    "sequence = check_sequence(sequence)"
   ]
  },
  {
   "cell_type": "code",
   "execution_count": 3,
   "metadata": {},
   "outputs": [
    {
     "name": "stdout",
     "output_type": "stream",
     "text": [
      "La secuencia de ADN es:  ACTCT\n"
     ]
    }
   ],
   "source": [
    "print(\"La secuencia de ADN es: \", sequence)"
   ]
  },
  {
   "cell_type": "code",
   "execution_count": 4,
   "metadata": {},
   "outputs": [],
   "source": [
    "query_file = \"query.fasta\"\n",
    "with open(query_file, \"w\") as f:\n",
    "    f.write(\">query_sequence\\n\")\n",
    "    f.write(sequence)\n"
   ]
  },
  {
   "cell_type": "code",
   "execution_count": 5,
   "metadata": {},
   "outputs": [
    {
     "name": "stderr",
     "output_type": "stream",
     "text": [
      "c:\\Users\\Susana\\anaconda3\\envs\\bio\\lib\\site-packages\\Bio\\Application\\__init__.py:39: BiopythonDeprecationWarning: The Bio.Application modules and modules relying on it have been deprecated.\n",
      "\n",
      "Due to the on going maintenance burden of keeping command line application\n",
      "wrappers up to date, we have decided to deprecate and eventually remove these\n",
      "modules.\n",
      "\n",
      "We instead now recommend building your command line and invoking it directly\n",
      "with the subprocess module.\n",
      "  warnings.warn(\n"
     ]
    }
   ],
   "source": [
    "from Bio.Blast.Applications import NcbiblastnCommandline\n",
    "\n",
    "\n"
   ]
  },
  {
   "cell_type": "code",
   "execution_count": null,
   "metadata": {},
   "outputs": [
    {
     "name": "stdout",
     "output_type": "stream",
     "text": [
      "Ejecutando BLAST...\n"
     ]
    },
    {
     "ename": "ApplicationError",
     "evalue": "Non-zero return code 3 from '\"C:/Program Files/NCBI/blast-2.16.0+/bin/blastn.exe\" -out output.txt -outfmt 6 -query query.fasta -db C:/blast/db/nt -evalue 1e-10 -num_threads 8', message 'BLAST Database error: Database memory map file error'",
     "output_type": "error",
     "traceback": [
      "\u001b[1;31m---------------------------------------------------------------------------\u001b[0m",
      "\u001b[1;31mApplicationError\u001b[0m                          Traceback (most recent call last)",
      "Cell \u001b[1;32mIn[6], line 26\u001b[0m\n\u001b[0;32m     24\u001b[0m \u001b[38;5;66;03m# Ejecutar el comando BLAST\u001b[39;00m\n\u001b[0;32m     25\u001b[0m \u001b[38;5;28mprint\u001b[39m(\u001b[38;5;124m\"\u001b[39m\u001b[38;5;124mEjecutando BLAST...\u001b[39m\u001b[38;5;124m\"\u001b[39m)\n\u001b[1;32m---> 26\u001b[0m stdout, stderr \u001b[38;5;241m=\u001b[39m \u001b[43mblast_cline\u001b[49m\u001b[43m(\u001b[49m\u001b[43m)\u001b[49m  \u001b[38;5;66;03m# Ejecuta el comando\u001b[39;00m\n\u001b[0;32m     27\u001b[0m \u001b[38;5;28mprint\u001b[39m(\u001b[38;5;124m\"\u001b[39m\u001b[38;5;124mBLAST ejecutado correctamente.\u001b[39m\u001b[38;5;124m\"\u001b[39m)\n\u001b[0;32m     29\u001b[0m \u001b[38;5;66;03m# Leer resultados\u001b[39;00m\n",
      "File \u001b[1;32mc:\\Users\\Susana\\anaconda3\\envs\\bio\\lib\\site-packages\\Bio\\Application\\__init__.py:591\u001b[0m, in \u001b[0;36mAbstractCommandline.__call__\u001b[1;34m(self, stdin, stdout, stderr, cwd, env)\u001b[0m\n\u001b[0;32m    588\u001b[0m     stderr_arg\u001b[38;5;241m.\u001b[39mclose()\n\u001b[0;32m    590\u001b[0m \u001b[38;5;28;01mif\u001b[39;00m return_code:\n\u001b[1;32m--> 591\u001b[0m     \u001b[38;5;28;01mraise\u001b[39;00m ApplicationError(return_code, \u001b[38;5;28mstr\u001b[39m(\u001b[38;5;28mself\u001b[39m), stdout_str, stderr_str)\n\u001b[0;32m    592\u001b[0m \u001b[38;5;28;01mreturn\u001b[39;00m stdout_str, stderr_str\n",
      "\u001b[1;31mApplicationError\u001b[0m: Non-zero return code 3 from '\"C:/Program Files/NCBI/blast-2.16.0+/bin/blastn.exe\" -out output.txt -outfmt 6 -query query.fasta -db C:/blast/db/nt -evalue 1e-10 -num_threads 8', message 'BLAST Database error: Database memory map file error'"
     ]
    }
   ],
   "source": [
    "from Bio.Blast.Applications import NcbiblastnCommandline\n",
    "\n",
    "# Parámetros\n",
    "query_file = \"query.fasta\"  # Archivo FASTA con las secuencias de consulta\n",
    "database_path = \"C:/blast/db/nt\"  # Ruta a la base de datos\n",
    "output_file = \"output.txt\"  # Archivo de salida\n",
    "evalue = 1e-10  # Valor E para filtrado\n",
    "num_threads = 8  # Número de hilos\n",
    "\n",
    "# Configuración del comando BLAST\n",
    "blast_cline = NcbiblastnCommandline(\n",
    "    cmd=blast_executable,\n",
    "    query=query_file,\n",
    "    db=database_path,\n",
    "    out=output_file,\n",
    "    outfmt=6,  # Salida tabular\n",
    "    evalue=evalue,\n",
    "    num_threads=num_threads\n",
    ")\n",
    "\n",
    "# Ejecutar el comando BLAST\n",
    "print(\"Ejecutando BLAST...\")\n",
    "stdout, stderr = blast_cline()  # Ejecuta el comando\n",
    "print(\"BLAST ejecutado correctamente.\")\n",
    "\n",
    "# Leer resultados\n",
    "with open(output_file, \"r\") as result_file:\n",
    "    print(\"Resultados:\")\n",
    "    print(result_file.read())\n"
   ]
  },
  {
   "cell_type": "code",
   "execution_count": null,
   "metadata": {},
   "outputs": [],
   "source": []
  }
 ],
 "metadata": {
  "kernelspec": {
   "display_name": "bio",
   "language": "python",
   "name": "python3"
  },
  "language_info": {
   "codemirror_mode": {
    "name": "ipython",
    "version": 3
   },
   "file_extension": ".py",
   "mimetype": "text/x-python",
   "name": "python",
   "nbconvert_exporter": "python",
   "pygments_lexer": "ipython3",
   "version": "3.9.20"
  }
 },
 "nbformat": 4,
 "nbformat_minor": 2
}
