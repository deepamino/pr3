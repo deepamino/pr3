{
 "cells": [
  {
   "cell_type": "markdown",
   "metadata": {},
   "source": [
    "# Ejercicio 1: \n",
    "\n",
    "Escribe un programa en Python que use Biopython para hacer una búsqueda BLAST de una secuencia de ADN que introduzcas por teclado. \n",
    "El programa debe mostrar por pantalla el número de resultados obtenidos, el E-value del mejor resultado y la descripción de la secuencia más similar. \n",
    "Hágalo de forma online y local."
   ]
  },
  {
   "cell_type": "markdown",
   "metadata": {},
   "source": [
    "### 1.1. Instalación de BLAST\n",
    "\n",
    "1. Se descarga la versión para el equipo de BLAST desde el siguiente enlace: [BLAST](https://ftp.ncbi.nlm.nih.gov/blast/executables/blast+/LATEST/)\n",
    "2. Se ejecuta, en nuestro caso, el *.exe* descargado y se instala en el equipo.\n",
    "3. Se configura el *path* de BLAST como variable de entorno del sistema.\n",
    "4. Se verifica la instalación con el comando `blastn --version`."
   ]
  },
  {
   "cell_type": "markdown",
   "metadata": {},
   "source": [
    "### 1.2. Secuencia de ADN por teclado"
   ]
  },
  {
   "cell_type": "code",
   "execution_count": 1,
   "metadata": {},
   "outputs": [],
   "source": [
    "from debug_sequence.functions import check_sequence"
   ]
  },
  {
   "cell_type": "code",
   "execution_count": 2,
   "metadata": {},
   "outputs": [],
   "source": [
    "def get_sequence():\n",
    "    sequence = input(\"Introduce la secuencia de ADN: \").strip()\n",
    "    sequence = check_sequence(sequence)\n",
    "    return sequence"
   ]
  },
  {
   "cell_type": "markdown",
   "metadata": {},
   "source": [
    "### 1.3. Implementación online"
   ]
  },
  {
   "cell_type": "code",
   "execution_count": 7,
   "metadata": {},
   "outputs": [],
   "source": [
    "from Bio.Blast import NCBIWWW, NCBIXML"
   ]
  },
  {
   "cell_type": "code",
   "execution_count": 8,
   "metadata": {},
   "outputs": [],
   "source": [
    "def search_online_sequence():\n",
    "    sequence = get_sequence()\n",
    "\n",
    "    result = NCBIWWW.qblast(\"blastn\", \"nt\", sequence)\n",
    "    blast_records = NCBIXML.read(result)\n",
    "    \n",
    "    if not blast_records.alignments:\n",
    "        print(\"No se encontraron resultados.\")\n",
    "        \n",
    "    num_results = len(blast_records.alignments)\n",
    "\n",
    "    best_alignment = blast_records.alignments[0]\n",
    "    best_hsp = best_alignment.hsps[0]\n",
    "    e_value = best_hsp.expect\n",
    "    description = best_alignment.title\n",
    "    \n",
    "    print(\"\\nResultados BLAST:\")\n",
    "    print(f\"Número de resultados: {num_results}\")\n",
    "    print(f\"E-value del mejor resultado: {e_value}\")\n",
    "    print(f\"Descripción de la secuencia más similar: {description}\")"
   ]
  },
  {
   "cell_type": "code",
   "execution_count": 9,
   "metadata": {},
   "outputs": [
    {
     "name": "stdout",
     "output_type": "stream",
     "text": [
      "\n",
      "Resultados BLAST:\n",
      "Número de resultados: 50\n",
      "E-value del mejor resultado: 2.08101e-37\n",
      "Descripción de la secuencia más similar: gi|1584133852|gb|MK476408.1| Homo sapiens voucher Bantu_1_1 hemoglobin subunit beta (HBB) gene, complete cds\n"
     ]
    }
   ],
   "source": [
    "search_online_sequence()"
   ]
  },
  {
   "cell_type": "markdown",
   "metadata": {},
   "source": [
    "### 1.4. Implementación local\n",
    "\n",
    "Para usar las bases de datos proporcionadas por el NCBI, es necesario descargarlas mediante el comando `perl update_blastdb.pl --decompress nt`, donde `nt` es la base de datos de nucleótidos. Para este ejercicio, se usará la base de datos `human_genome` y `nt`.\n",
    "\n",
    "De la base de datos `nt` se han descargado los siguientes:\n",
    "\n",
    "`perl \"C:\\Program Files\\NCBI\\blast-2.16.0+\\bin\\update_blastdb.pl\" --decompress nt.000 nt.001 nt.002 nt.003 nt.004 nt.005 nt.006 nt.007 nt.008 nt.009 nt.010`"
   ]
  },
  {
   "cell_type": "code",
   "execution_count": 13,
   "metadata": {},
   "outputs": [],
   "source": [
    "from Bio.Blast.Applications import NcbiblastnCommandline\n",
    "from Bio.Blast import NCBIXML\n",
    "import os\n",
    "import warnings\n",
    "\n",
    "warnings.simplefilter(\"ignore\")\n",
    "os.environ[\"BLASTDB\"] = input(\"Introduce la ruta de la base de datos de BLAST: \")\n",
    "os.environ[\"CMD\"] = input(\"Introduce la ruta del ejecutable de BLAST: \")"
   ]
  },
  {
   "cell_type": "markdown",
   "metadata": {},
   "source": [
    "r\"C:\\Users\\Susana\\Desktop\\blast\\human_genome\\GCF_000001405.39_top_level\"\n",
    "\n",
    "\n",
    "r\"C:\\Usuarios\\Susana\\Escritorio\\blast\\nt\"\n",
    "\n",
    "r\"C:\\Archivos de programa\\NCBI\\blast-2.16.0+\\bin\\blastn.exe\""
   ]
  },
  {
   "cell_type": "code",
   "execution_count": 15,
   "metadata": {},
   "outputs": [],
   "source": [
    "def search_local_sequence():\n",
    "    sequence = get_sequence()\n",
    "\n",
    "    fasta_file = \"query.fasta\"\n",
    "    with open(fasta_file, \"w\") as f:\n",
    "        f.write(\">query\\n\")\n",
    "        f.write(sequence)\n",
    "    \n",
    "    blastn_cline = NcbiblastnCommandline(\n",
    "        cmd=os.environ[\"CMD\"],\n",
    "        query=fasta_file,\n",
    "        db=os.environ[\"BLASTDB\"],\n",
    "        evalue=0.001,\n",
    "        outfmt=5,\n",
    "        out=\"results.xml\"\n",
    "    )\n",
    "\n",
    "    blastn_cline()\n",
    "\n",
    "    with open(\"results.xml\") as result_handle:\n",
    "        blast_records = NCBIXML.parse(result_handle)\n",
    "        for blast_record in blast_records:\n",
    "            if blast_record.alignments:\n",
    "                print(f\"Número de resultados: {len(blast_record.alignments)}\")\n",
    "\n",
    "                best_alignment = blast_record.alignments[0]\n",
    "                best_hsp = best_alignment.hsps[0]\n",
    "                print(f\"E-value del mejor resultado: {best_hsp.expect}\")\n",
    "                print(f\"Descripción del mejor resultado: {best_alignment.title}\")\n",
    "            else:\n",
    "                print(\"No se encontraron coincidencias.\")\n",
    "    \n",
    "    os.remove(fasta_file)\n",
    "    os.remove(\"results.xml\")"
   ]
  },
  {
   "cell_type": "code",
   "execution_count": 16,
   "metadata": {},
   "outputs": [
    {
     "ename": "ApplicationError",
     "evalue": "Non-zero return code 3 from '\"C:\\\\Archivos de programa\\\\NCBI\\\\blast-2.16.0+\\\\bin\\\\blastn.exe\" -out results.xml -outfmt 5 -query query.fasta -db C:\\\\Usuarios\\\\Susana\\\\Escritorio\\\\blast\\\\nt -evalue 0.001', message 'BLAST Database error: Database memory map file error'",
     "output_type": "error",
     "traceback": [
      "\u001b[1;31m---------------------------------------------------------------------------\u001b[0m",
      "\u001b[1;31mApplicationError\u001b[0m                          Traceback (most recent call last)",
      "Cell \u001b[1;32mIn[16], line 1\u001b[0m\n\u001b[1;32m----> 1\u001b[0m \u001b[43msearch_local_sequence\u001b[49m\u001b[43m(\u001b[49m\u001b[43m)\u001b[49m\n",
      "Cell \u001b[1;32mIn[15], line 18\u001b[0m, in \u001b[0;36msearch_local_sequence\u001b[1;34m()\u001b[0m\n\u001b[0;32m      7\u001b[0m     f\u001b[38;5;241m.\u001b[39mwrite(sequence)\n\u001b[0;32m      9\u001b[0m blastn_cline \u001b[38;5;241m=\u001b[39m NcbiblastnCommandline(\n\u001b[0;32m     10\u001b[0m     cmd\u001b[38;5;241m=\u001b[39mos\u001b[38;5;241m.\u001b[39menviron[\u001b[38;5;124m\"\u001b[39m\u001b[38;5;124mCMD\u001b[39m\u001b[38;5;124m\"\u001b[39m],\n\u001b[0;32m     11\u001b[0m     query\u001b[38;5;241m=\u001b[39mfasta_file,\n\u001b[1;32m   (...)\u001b[0m\n\u001b[0;32m     15\u001b[0m     out\u001b[38;5;241m=\u001b[39m\u001b[38;5;124m\"\u001b[39m\u001b[38;5;124mresults.xml\u001b[39m\u001b[38;5;124m\"\u001b[39m\n\u001b[0;32m     16\u001b[0m )\n\u001b[1;32m---> 18\u001b[0m \u001b[43mblastn_cline\u001b[49m\u001b[43m(\u001b[49m\u001b[43m)\u001b[49m\n\u001b[0;32m     20\u001b[0m \u001b[38;5;28;01mwith\u001b[39;00m \u001b[38;5;28mopen\u001b[39m(\u001b[38;5;124m\"\u001b[39m\u001b[38;5;124mresults.xml\u001b[39m\u001b[38;5;124m\"\u001b[39m) \u001b[38;5;28;01mas\u001b[39;00m result_handle:\n\u001b[0;32m     21\u001b[0m     blast_records \u001b[38;5;241m=\u001b[39m NCBIXML\u001b[38;5;241m.\u001b[39mparse(result_handle)\n",
      "File \u001b[1;32mc:\\Users\\Susana\\anaconda3\\envs\\bio\\lib\\site-packages\\Bio\\Application\\__init__.py:591\u001b[0m, in \u001b[0;36mAbstractCommandline.__call__\u001b[1;34m(self, stdin, stdout, stderr, cwd, env)\u001b[0m\n\u001b[0;32m    588\u001b[0m     stderr_arg\u001b[38;5;241m.\u001b[39mclose()\n\u001b[0;32m    590\u001b[0m \u001b[38;5;28;01mif\u001b[39;00m return_code:\n\u001b[1;32m--> 591\u001b[0m     \u001b[38;5;28;01mraise\u001b[39;00m ApplicationError(return_code, \u001b[38;5;28mstr\u001b[39m(\u001b[38;5;28mself\u001b[39m), stdout_str, stderr_str)\n\u001b[0;32m    592\u001b[0m \u001b[38;5;28;01mreturn\u001b[39;00m stdout_str, stderr_str\n",
      "\u001b[1;31mApplicationError\u001b[0m: Non-zero return code 3 from '\"C:\\\\Archivos de programa\\\\NCBI\\\\blast-2.16.0+\\\\bin\\\\blastn.exe\" -out results.xml -outfmt 5 -query query.fasta -db C:\\\\Usuarios\\\\Susana\\\\Escritorio\\\\blast\\\\nt -evalue 0.001', message 'BLAST Database error: Database memory map file error'"
     ]
    }
   ],
   "source": [
    "search_local_sequence()"
   ]
  },
  {
   "cell_type": "code",
   "execution_count": null,
   "metadata": {},
   "outputs": [],
   "source": []
  }
 ],
 "metadata": {
  "kernelspec": {
   "display_name": "bio",
   "language": "python",
   "name": "python3"
  },
  "language_info": {
   "codemirror_mode": {
    "name": "ipython",
    "version": 3
   },
   "file_extension": ".py",
   "mimetype": "text/x-python",
   "name": "python",
   "nbconvert_exporter": "python",
   "pygments_lexer": "ipython3",
   "version": "3.9.20"
  }
 },
 "nbformat": 4,
 "nbformat_minor": 2
}
