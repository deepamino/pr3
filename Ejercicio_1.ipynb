{
 "cells": [
  {
   "cell_type": "markdown",
   "metadata": {},
   "source": [
    "# Ejercicio 1: \n",
    "\n",
    "Escribe un programa en Python que use Biopython para hacer una búsqueda BLAST de una secuencia de ADN que introduzcas por teclado. \n",
    "El programa debe mostrar por pantalla el número de resultados obtenidos, el E-value del mejor resultado y la descripción de la secuencia más similar. \n",
    "Hágalo de forma online y local."
   ]
  },
  {
   "cell_type": "code",
   "execution_count": 2,
   "metadata": {},
   "outputs": [],
   "source": [
    "import warnings\n",
    "import os\n",
    "import pandas as pd"
   ]
  },
  {
   "cell_type": "code",
   "execution_count": 3,
   "metadata": {},
   "outputs": [],
   "source": [
    "warnings.filterwarnings(\"ignore\")\n",
    "\n",
    "from debug_sequence.functions import check_sequence\n",
    "from Bio.Blast import NCBIWWW, NCBIXML\n",
    "from Bio.Blast.Applications import NcbiblastnCommandline\n",
    "from Bio.Blast import NCBIXML"
   ]
  },
  {
   "cell_type": "markdown",
   "metadata": {},
   "source": [
    "### 1.1. Instalación de BLAST\n",
    "\n",
    "1. Se descarga la versión para el equipo de BLAST desde el siguiente enlace: [BLAST](https://ftp.ncbi.nlm.nih.gov/blast/executables/blast+/LATEST/)\n",
    "2. Se ejecuta, en nuestro caso, el *.exe* descargado y se instala en el equipo.\n",
    "3. Se configura el *path* de BLAST como variable de entorno del sistema.\n",
    "4. Se verifica la instalación con el comando `blastn --version`."
   ]
  },
  {
   "cell_type": "markdown",
   "metadata": {},
   "source": [
    "### 1.2. Secuencia de ADN por teclado"
   ]
  },
  {
   "cell_type": "code",
   "execution_count": 4,
   "metadata": {},
   "outputs": [],
   "source": [
    "def get_sequence():\n",
    "    sequence = input(\"Introduce la secuencia de ADN: \").strip()\n",
    "    sequence = check_sequence(sequence)\n",
    "    return sequence"
   ]
  },
  {
   "cell_type": "markdown",
   "metadata": {},
   "source": [
    "### 1.3. Implementación online"
   ]
  },
  {
   "cell_type": "code",
   "execution_count": 5,
   "metadata": {},
   "outputs": [],
   "source": [
    "def search_online_sequence():\n",
    "    sequence = get_sequence()\n",
    "\n",
    "    result = NCBIWWW.qblast(\"blastn\", \"nt\", sequence)\n",
    "    blast_records = NCBIXML.read(result)\n",
    "    \n",
    "    if not blast_records.alignments:\n",
    "        print(\"No se encontraron resultados.\")\n",
    "        \n",
    "    num_results = len(blast_records.alignments)\n",
    "\n",
    "    best_alignment = blast_records.alignments[0]\n",
    "    best_hsp = best_alignment.hsps[0]\n",
    "    e_value = best_hsp.expect\n",
    "    description = best_alignment.title\n",
    "    \n",
    "    print(\"\\nResultados BLAST:\")\n",
    "    print(f\"Número de resultados: {num_results}\")\n",
    "    print(f\"E-value del mejor resultado: {e_value}\")\n",
    "    print(f\"Descripción de la secuencia más similar: {description}\")"
   ]
  },
  {
   "cell_type": "markdown",
   "metadata": {},
   "source": [
    "### 1.4. Implementación local\n",
    "\n",
    "Para usar las bases de datos proporcionadas por el NCBI, es necesario descargarlas mediante el comando `perl update_blastdb.pl --decompress core_nt`. Para este ejercicio, se usará la base de datos `human_genome` y `core_nt`.\n",
    "\n",
    "- **Base de datos `human_genome`**: Base de datos de ensamblaje actual del genoma humano refseq (GRCh). [Información disponible](https://www.ncbi.nlm.nih.gov/books/NBK62345/#blast_ftp_site.The_blastdb_subdirectory)\n",
    "- **Base de datos `core_nt`**:  La base de datos core_nt es nt sin la mayoría de las secuencias de cromosomas eucariotas. La mayoría de las búsquedas BLAST de nucleótidos con core_nt serán similares a las de la base de datos nt. Sin embargo, core_nt es mejor que nt para alcanzar los objetivos de búsqueda BLAST más comunes, como la identificación de secuencias relacionadas con genes, como secuencias de transcripción y cromosomas bacterianos completos. Esto se debe a que, en los últimos años, nt ha adquirido más contenido de baja relevancia, no anotado y no génico. Para esta base de datos, debido a las limitaciones de recursos, se han descargado los archivos desde el 00 al 20. [Información disponible](https://bioinformaticsonline.com/news/view/44640/new-blast-core-nucleotide-database-core-nT)\n"
   ]
  },
  {
   "cell_type": "code",
   "execution_count": 6,
   "metadata": {},
   "outputs": [],
   "source": [
    "def search_local_sequence():\n",
    "    os.environ[\"CMD\"] = input(\"Introduce la ruta del ejecutable de BLAST: \")\n",
    "    os.environ[\"BLASTDB\"] = input(\"Introduce la ruta de la base de datos de BLAST: \")\n",
    "    \n",
    "    sequence = get_sequence()\n",
    "\n",
    "    fasta_file = \"query.fasta\"\n",
    "    with open(fasta_file, \"w\") as f:\n",
    "        f.write(\">query\\n\")\n",
    "        f.write(sequence)\n",
    "    \n",
    "    blastn_cline = NcbiblastnCommandline(\n",
    "        cmd=os.environ[\"CMD\"],\n",
    "        query=fasta_file,\n",
    "        db=os.environ[\"BLASTDB\"],\n",
    "        evalue=0.001,\n",
    "        outfmt=5,\n",
    "        out=\"results.xml\"\n",
    "    )\n",
    "\n",
    "    blastn_cline()\n",
    "\n",
    "    with open(\"results.xml\") as result_handle:\n",
    "        blast_records = NCBIXML.parse(result_handle)\n",
    "        for blast_record in blast_records:\n",
    "            if blast_record.alignments:\n",
    "                print(f\"Número de resultados: {len(blast_record.alignments)}\")\n",
    "\n",
    "                best_alignment = blast_record.alignments[0]\n",
    "                best_hsp = best_alignment.hsps[0]\n",
    "                print(f\"E-value del mejor resultado: {best_hsp.expect}\")\n",
    "                print(f\"Descripción del mejor resultado: {best_alignment.title}\")\n",
    "            else:\n",
    "                print(\"No se encontraron coincidencias.\")\n",
    "    \n",
    "    os.remove(fasta_file)\n",
    "    os.remove(\"results.xml\")"
   ]
  },
  {
   "cell_type": "markdown",
   "metadata": {},
   "source": [
    "### 1.5. Comparación de la implementación local vs online\n",
    "\n",
    "Debido a las limitaciones de recursos, se decide comparar los resultados entre las diversas bases de datos, puesto que la implementación online utiliza la base de datos completa de `nt` y la en implementación local, únicamente se dispone de un subconjunto de la base de datos `core_nt` y `human_genome`. Además, se comparará el tiempo de ejecución entre las implementaciones.\n",
    "\n",
    "Para ello, se decide alinear mediante BLAST parte de una secuencia conocida que corresponde al gen de la hemoglobina:\n",
    "\n",
    "...`TACTGCCCTGTGGGGCAAGGTGAACGTGGATGAAGTTGGTGGTGAGGCCCTGGGCAGGTTGGTATCAAGGTTACAAGACAGGTTGCTGGTGGTCTACCCTT`..."
   ]
  },
  {
   "cell_type": "markdown",
   "metadata": {},
   "source": [
    "**CMD** \n",
    "\n",
    "C:\\Users\\Susana\\Desktop\\blast\\blast-2.16.0+\\bin\\blastn.exe\n",
    "\n",
    "**DB**\n",
    "\n",
    "C:\\Users\\Susana\\Desktop\\blast\\blast-2.16.0+\\db\\human_genome\\GCF_000001405.39_top_level\n",
    "\n",
    "C:\\Users\\Susana\\Desktop\\blast\\blast-2.16.0+\\db\\nt\\core_nt"
   ]
  },
  {
   "cell_type": "code",
   "execution_count": 7,
   "metadata": {},
   "outputs": [],
   "source": [
    "import time\n",
    "\n",
    "times_execution = {}"
   ]
  },
  {
   "cell_type": "markdown",
   "metadata": {},
   "source": [
    "#### 1.5.1. Implementación online"
   ]
  },
  {
   "cell_type": "code",
   "execution_count": 8,
   "metadata": {},
   "outputs": [
    {
     "name": "stdout",
     "output_type": "stream",
     "text": [
      "\n",
      "Resultados BLAST:\n",
      "Número de resultados: 50\n",
      "E-value del mejor resultado: 5.3338e-33\n",
      "Descripción de la secuencia más similar: gi|1584133852|gb|MK476408.1| Homo sapiens voucher Bantu_1_1 hemoglobin subunit beta (HBB) gene, complete cds\n"
     ]
    }
   ],
   "source": [
    "start = time.time()\n",
    "search_online_sequence()\n",
    "end = time.time()\n",
    "\n",
    "times_execution[\"online\"] = end - start"
   ]
  },
  {
   "cell_type": "markdown",
   "metadata": {},
   "source": [
    "#### 1.5.2. Implementación local - `human_genome`"
   ]
  },
  {
   "cell_type": "code",
   "execution_count": 9,
   "metadata": {},
   "outputs": [
    {
     "name": "stdout",
     "output_type": "stream",
     "text": [
      "Número de resultados: 1\n",
      "E-value del mejor resultado: 2.24631e-36\n",
      "Descripción del mejor resultado: gi|568815587|ref|NC_000011.10| Homo sapiens chromosome 11, GRCh38.p13 Primary Assembly\n"
     ]
    }
   ],
   "source": [
    "start = time.time()\n",
    "search_local_sequence()\n",
    "end = time.time()\n",
    "\n",
    "times_execution[\"local human genome\"] = end - start"
   ]
  },
  {
   "cell_type": "markdown",
   "metadata": {},
   "source": [
    "#### 1.5.3. Implementación local - subconjunto de `core_nt`"
   ]
  },
  {
   "cell_type": "code",
   "execution_count": 10,
   "metadata": {},
   "outputs": [
    {
     "name": "stdout",
     "output_type": "stream",
     "text": [
      "Número de resultados: 500\n",
      "E-value del mejor resultado: 1.59063e-34\n",
      "Descripción del mejor resultado: gi|1584132808|gb|MK475886.1| Homo sapiens voucher Baka_79_1 hemoglobin subunit beta (HBB) gene, complete cds\n"
     ]
    }
   ],
   "source": [
    "start = time.time()\n",
    "search_local_sequence()\n",
    "end = time.time()\n",
    "\n",
    "times_execution[\"local subconjunto core_nt\"] = end - start"
   ]
  },
  {
   "cell_type": "markdown",
   "metadata": {},
   "source": [
    "#### 1.5.4. Comparación de resultados\n",
    "\n",
    "Por un lado, la implementación local mediante la base de datos `core_nt` es la que más se asemeja a la online, la cual busca en la base de datos completa `nt`. Por otro lado, la base de datos `human_genome` es la que menos resultados arroja, debido a que es una base de datos específica del genoma humano."
   ]
  },
  {
   "cell_type": "code",
   "execution_count": 11,
   "metadata": {},
   "outputs": [
    {
     "data": {
      "text/html": [
       "<div>\n",
       "<style scoped>\n",
       "    .dataframe tbody tr th:only-of-type {\n",
       "        vertical-align: middle;\n",
       "    }\n",
       "\n",
       "    .dataframe tbody tr th {\n",
       "        vertical-align: top;\n",
       "    }\n",
       "\n",
       "    .dataframe thead th {\n",
       "        text-align: right;\n",
       "    }\n",
       "</style>\n",
       "<table border=\"1\" class=\"dataframe\">\n",
       "  <thead>\n",
       "    <tr style=\"text-align: right;\">\n",
       "      <th></th>\n",
       "      <th>Tiempo de ejecución (s)</th>\n",
       "    </tr>\n",
       "  </thead>\n",
       "  <tbody>\n",
       "    <tr>\n",
       "      <th>online</th>\n",
       "      <td>67.487276</td>\n",
       "    </tr>\n",
       "    <tr>\n",
       "      <th>local human genome</th>\n",
       "      <td>19.800459</td>\n",
       "    </tr>\n",
       "    <tr>\n",
       "      <th>local subconjunto core_nt</th>\n",
       "      <td>524.341397</td>\n",
       "    </tr>\n",
       "  </tbody>\n",
       "</table>\n",
       "</div>"
      ],
      "text/plain": [
       "                           Tiempo de ejecución (s)\n",
       "online                                   67.487276\n",
       "local human genome                       19.800459\n",
       "local subconjunto core_nt               524.341397"
      ]
     },
     "metadata": {},
     "output_type": "display_data"
    }
   ],
   "source": [
    "df = pd.DataFrame.from_dict(times_execution, orient=\"index\", columns=[\"Tiempo de ejecución (s)\"])\n",
    "display(df)"
   ]
  },
  {
   "cell_type": "markdown",
   "metadata": {},
   "source": [
    "Sin embargo, la búsqueda local, debido a la falta de recursos, es la que más tarda. Por lo que las búsquedas locales se deben realizar en el caso de que se dispongan de los recursos necesarios."
   ]
  }
 ],
 "metadata": {
  "kernelspec": {
   "display_name": "bio",
   "language": "python",
   "name": "python3"
  },
  "language_info": {
   "codemirror_mode": {
    "name": "ipython",
    "version": 3
   },
   "file_extension": ".py",
   "mimetype": "text/x-python",
   "name": "python",
   "nbconvert_exporter": "python",
   "pygments_lexer": "ipython3",
   "version": "3.9.20"
  }
 },
 "nbformat": 4,
 "nbformat_minor": 2
}
