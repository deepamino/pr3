{
 "cells": [
  {
   "cell_type": "markdown",
   "metadata": {},
   "source": [
    "# Ejercicio 2: \n",
    "\n",
    "Escribe un programa en Python que use Biopython para hacer una búsqueda BLAST de una secuencia de proteína que introduzcas por teclado.\n",
    "El programa debe guardar en un fichero los resultados que tengan un E-value menor que 0.001. \n",
    "El fichero debe contener el identificador, la longitud, el E-value y el porcentaje de identidad de cada resultado. \n",
    "Hágalo de forma online y local."
   ]
  },
  {
   "cell_type": "code",
   "execution_count": 43,
   "metadata": {},
   "outputs": [],
   "source": [
    "import os\n",
    "import warnings\n",
    "import time\n",
    "import pandas as pd\n",
    "import json"
   ]
  },
  {
   "cell_type": "code",
   "execution_count": 37,
   "metadata": {},
   "outputs": [],
   "source": [
    "warnings.filterwarnings(\"ignore\")\n",
    "\n",
    "from debug_sequence.functions import check_protein\n",
    "from Bio.Blast import NCBIWWW, NCBIXML\n",
    "from Bio.Blast.Applications import NcbiblastpCommandline\n",
    "from Bio.Blast import NCBIXML"
   ]
  },
  {
   "cell_type": "markdown",
   "metadata": {},
   "source": [
    "### 2.1. Instalación de BLAST\n",
    "\n",
    "1. Se descarga la versión para el equipo de BLAST desde el siguiente enlace: [BLAST](https://ftp.ncbi.nlm.nih.gov/blast/executables/blast+/LATEST/)\n",
    "2. Se ejecuta, en nuestro caso, el *.exe* descargado y se instala en el equipo.\n",
    "3. Se configura el *path* de BLAST como variable de entorno del sistema.\n",
    "4. Se verifica la instalación con el comando `blastn --version`."
   ]
  },
  {
   "cell_type": "markdown",
   "metadata": {},
   "source": [
    "### 2.2. Secuencia de aminoácidos por teclado"
   ]
  },
  {
   "cell_type": "code",
   "execution_count": 33,
   "metadata": {},
   "outputs": [],
   "source": [
    "def get_protein():\n",
    "    protein = input(\"Enter the protein sequence: \")\n",
    "    protein = check_protein(protein)\n",
    "    return protein"
   ]
  },
  {
   "cell_type": "markdown",
   "metadata": {},
   "source": [
    "### 2.3. Implementación online"
   ]
  },
  {
   "cell_type": "markdown",
   "metadata": {},
   "source": [
    "Enlace a la documentación: [BLAST Record](https://biopython.org/docs/1.75/api/Bio.Blast.NCBIWWW.html)\n",
    "\n",
    "Los atributos indicados en el enunciado son:\n",
    "- Identificador: `alignment.hit_id`\n",
    "- Longitud: `alignment.length`\n",
    "- E-value: `hsp.expect`\n",
    "- Porcentaje de identidad: `hsp.identities / hsp.align_length` (número de identidades / longitud de la secuencia de consulta)\n"
   ]
  },
  {
   "cell_type": "code",
   "execution_count": 47,
   "metadata": {},
   "outputs": [],
   "source": [
    "def search_protein_sequence(output_file=\"./results/blast_results.txt\"):\n",
    "\n",
    "    protein_sequence = get_protein()\n",
    "\n",
    "    result_handle = NCBIWWW.qblast(\"blastp\", \"nr\", protein_sequence)\n",
    "    blast_records = NCBIXML.parse(result_handle)\n",
    "\n",
    "    filtered_results = []\n",
    "\n",
    "    for blast_record in blast_records:\n",
    "        for alignment in blast_record.alignments:\n",
    "            for hsp in alignment.hsps:\n",
    "                if hsp.expect < 0.001:\n",
    "                    result = {\n",
    "                        \"id\": alignment.hit_id,\n",
    "                        \"length\": alignment.length,\n",
    "                        \"evalue\": hsp.expect,\n",
    "                        \"identity_percentage\": (hsp.identities / hsp.align_length) * 100\n",
    "                    }\n",
    "                    filtered_results.append(result)\n",
    "\n",
    "    with open(output_file, \"w\") as f:\n",
    "        json.dump(filtered_results, f, indent=4)\n",
    "\n",
    "    print(f\"Resultados guardados en formato JSON en: {output_file}\")\n"
   ]
  },
  {
   "cell_type": "markdown",
   "metadata": {},
   "source": [
    "### 2.4. Implementación local\n",
    "\n",
    "Para usar las bases de datos proporcionadas por el NCBI, es necesario descargarlas mediante el comando `perl update_blastdb.pl --decompress bbdd`, donde `bbdd` es la base de datos de secuencias de aminoácidos. Las bases de datos utilizadas son las siguientes:\n",
    "\n",
    "- `swissprot`: repositorio de secuencias de proteínas que forma parte de la base de datos UniProt.\n",
    "- `nr`: base de datos no redundante de secuencias de proteínas. Debido a las limitaciones de recursos, se han descargado únicamente los archivos desde el 000 al 020.\n",
    "\n"
   ]
  },
  {
   "cell_type": "code",
   "execution_count": 45,
   "metadata": {},
   "outputs": [],
   "source": [
    "def search_local_protein(output_file = \"./results/blast_results_locally.txt\"):\n",
    "    os.environ[\"CMD\"] = input(\"Introduce la ruta del ejecutable de BLAST: \")\n",
    "    os.environ[\"BLASTDB\"] = input(\"Introduce la ruta de la base de datos de BLAST: \")\n",
    "    sequence = input(\"Introduce la secuencia de proteína en formato FASTA: \")\n",
    "\n",
    "    fasta_file = \"query.fasta\"\n",
    "    with open(fasta_file, \"w\") as f:\n",
    "        f.write(\">query\\n\")\n",
    "        f.write(sequence)\n",
    "\n",
    "    blastp_cline = NcbiblastpCommandline(\n",
    "        cmd=os.environ[\"CMD\"],\n",
    "        query=fasta_file,\n",
    "        db=os.environ[\"BLASTDB\"],\n",
    "        evalue=0.001,\n",
    "        outfmt=5,\n",
    "        out=\"results.xml\"\n",
    "    )\n",
    "\n",
    "    blastp_cline()\n",
    "\n",
    "    with open(\"results.xml\") as result_handle:\n",
    "        blast_records = NCBIXML.parse(result_handle)\n",
    "        filtered_results = []\n",
    "\n",
    "        for blast_record in blast_records:\n",
    "            for alignment in blast_record.alignments:\n",
    "                for hsp in alignment.hsps:\n",
    "                    if hsp.expect < 0.001:\n",
    "                        result = {\n",
    "                            \"id\": alignment.hit_id,\n",
    "                            \"length\": alignment.length,\n",
    "                            \"evalue\": hsp.expect,\n",
    "                            \"identity_percentage\": (hsp.identities / hsp.align_length) * 100\n",
    "                        }\n",
    "                        filtered_results.append(result)\n",
    "\n",
    "    with open(output_file, \"w\") as f:\n",
    "        json.dump(filtered_results, f, indent=4)\n",
    "\n",
    "    print(f\"Resultados guardados en formato JSON en: {output_file}\")\n",
    "\n",
    "    os.remove(fasta_file)\n",
    "    os.remove(\"results.xml\")"
   ]
  },
  {
   "cell_type": "markdown",
   "metadata": {},
   "source": [
    "### 2.5. Comparación de la implementación local vs online\n",
    "\n",
    "Al igual que el ejercicio 1, se ha decidido realizar una comparativa entre la implementación local y online. Para ello, se utilizará parte de la secuencia de aminoácidos correspondiente a la proteína de la insulina humana.\n",
    "\n",
    "...`LVEALYLVCGERGFFYTPKTRREAEDLQVGQVELGGGP`..."
   ]
  },
  {
   "cell_type": "markdown",
   "metadata": {},
   "source": [
    "**CMD** \n",
    "\n",
    "C:\\Users\\Susana\\Desktop\\blast\\blast-2.16.0+\\bin\\blastp.exe\n",
    "\n",
    "**DB**\n",
    "\n",
    "C:\\Users\\Susana\\Desktop\\blast\\blast-2.16.0+\\db\\swissprot\\swissprot\n",
    "\n",
    "C:\\Users\\Susana\\Desktop\\blast\\blast-2.16.0+\\db\\nr\\nr\n"
   ]
  },
  {
   "cell_type": "code",
   "execution_count": 48,
   "metadata": {},
   "outputs": [],
   "source": [
    "import time\n",
    "\n",
    "times_execution = {}"
   ]
  },
  {
   "cell_type": "markdown",
   "metadata": {},
   "source": [
    "#### 2.5.1. Implementación online"
   ]
  },
  {
   "cell_type": "code",
   "execution_count": 49,
   "metadata": {},
   "outputs": [
    {
     "name": "stdout",
     "output_type": "stream",
     "text": [
      "Resultados guardados en formato JSON en: ./results/blast_results.txt\n"
     ]
    }
   ],
   "source": [
    "start = time.time()\n",
    "search_protein_sequence()\n",
    "end = time.time()\n",
    "\n",
    "times_execution[\"online\"] = end - start"
   ]
  },
  {
   "cell_type": "markdown",
   "metadata": {},
   "source": [
    "#### 2.5.2. Implementación local - `swissprot`"
   ]
  },
  {
   "cell_type": "code",
   "execution_count": 50,
   "metadata": {},
   "outputs": [
    {
     "name": "stdout",
     "output_type": "stream",
     "text": [
      "Resultados guardados en formato JSON en: ./results/blast_results_locally.txt\n"
     ]
    }
   ],
   "source": [
    "start = time.time()\n",
    "search_local_protein()\n",
    "end = time.time()\n",
    "\n",
    "times_execution[\"local swissprot\"] = end - start"
   ]
  },
  {
   "cell_type": "markdown",
   "metadata": {},
   "source": [
    "#### 2.5.3. Implementación local - subconjunto de `nr`"
   ]
  },
  {
   "cell_type": "code",
   "execution_count": 51,
   "metadata": {},
   "outputs": [
    {
     "name": "stdout",
     "output_type": "stream",
     "text": [
      "Resultados guardados en formato JSON en: ./results/blast_results_locally_nr.txt\n"
     ]
    }
   ],
   "source": [
    "start = time.time()\n",
    "search_local_protein(output_file=\"./results/blast_results_locally_nr.txt\")\n",
    "end = time.time()\n",
    "\n",
    "times_execution[\"local nr subset\"] = end - start"
   ]
  },
  {
   "cell_type": "markdown",
   "metadata": {},
   "source": [
    "#### 2.5.4. Comparación de resultados\n",
    "\n",
    "En este caso, lo único que se puede comparar es el tiempo de ejecución, ya que los resultados más fiables se consideran los correspondientes a la base de datos online puesto que es la que más información contiene."
   ]
  },
  {
   "cell_type": "code",
   "execution_count": 53,
   "metadata": {},
   "outputs": [
    {
     "data": {
      "text/html": [
       "<div>\n",
       "<style scoped>\n",
       "    .dataframe tbody tr th:only-of-type {\n",
       "        vertical-align: middle;\n",
       "    }\n",
       "\n",
       "    .dataframe tbody tr th {\n",
       "        vertical-align: top;\n",
       "    }\n",
       "\n",
       "    .dataframe thead th {\n",
       "        text-align: right;\n",
       "    }\n",
       "</style>\n",
       "<table border=\"1\" class=\"dataframe\">\n",
       "  <thead>\n",
       "    <tr style=\"text-align: right;\">\n",
       "      <th></th>\n",
       "      <th>Tiempo de ejecución (s)</th>\n",
       "    </tr>\n",
       "  </thead>\n",
       "  <tbody>\n",
       "    <tr>\n",
       "      <th>online</th>\n",
       "      <td>487.201359</td>\n",
       "    </tr>\n",
       "    <tr>\n",
       "      <th>local swissprot</th>\n",
       "      <td>14.008230</td>\n",
       "    </tr>\n",
       "    <tr>\n",
       "      <th>local nr subset</th>\n",
       "      <td>485.818624</td>\n",
       "    </tr>\n",
       "  </tbody>\n",
       "</table>\n",
       "</div>"
      ],
      "text/plain": [
       "                 Tiempo de ejecución (s)\n",
       "online                        487.201359\n",
       "local swissprot                14.008230\n",
       "local nr subset               485.818624"
      ]
     },
     "metadata": {},
     "output_type": "display_data"
    }
   ],
   "source": [
    "df = pd.DataFrame.from_dict(times_execution, orient=\"index\", columns=[\"Tiempo de ejecución (s)\"])\n",
    "display(df)"
   ]
  }
 ],
 "metadata": {
  "kernelspec": {
   "display_name": "bio",
   "language": "python",
   "name": "python3"
  },
  "language_info": {
   "codemirror_mode": {
    "name": "ipython",
    "version": 3
   },
   "file_extension": ".py",
   "mimetype": "text/x-python",
   "name": "python",
   "nbconvert_exporter": "python",
   "pygments_lexer": "ipython3",
   "version": "3.9.20"
  }
 },
 "nbformat": 4,
 "nbformat_minor": 2
}
