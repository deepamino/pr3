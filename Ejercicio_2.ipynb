{
 "cells": [
  {
   "cell_type": "markdown",
   "metadata": {},
   "source": [
    "# Ejercicio 2: \n",
    "\n",
    "Escribe un programa en Python que use Biopython para hacer una búsqueda BLAST de una secuencia de proteína que introduzcas por teclado.\n",
    "El programa debe guardar en un fichero los resultados que tengan un E-value menor que 0.001. \n",
    "El fichero debe contener el identificador, la longitud, el E-value y el porcentaje de identidad de cada resultado. \n",
    "Hágalo de forma online y local."
   ]
  },
  {
   "cell_type": "markdown",
   "metadata": {},
   "source": [
    "### 2.1. Instalación de BLAST\n",
    "\n",
    "1. Se descarga la versión para el equipo de BLAST desde el siguiente enlace: [BLAST](https://ftp.ncbi.nlm.nih.gov/blast/executables/blast+/LATEST/)\n",
    "2. Se ejecuta, en nuestro caso, el *.exe* descargado y se instala en el equipo.\n",
    "3. Se configura el *path* de BLAST como variable de entorno del sistema.\n",
    "4. Se verifica la instalación con el comando `blastn --version`."
   ]
  },
  {
   "cell_type": "markdown",
   "metadata": {},
   "source": [
    "### 2.2. Secuencia de aminoácidos por teclado"
   ]
  },
  {
   "cell_type": "code",
   "execution_count": 3,
   "metadata": {},
   "outputs": [],
   "source": [
    "from debug_sequence.functions import check_protein"
   ]
  },
  {
   "cell_type": "code",
   "execution_count": 4,
   "metadata": {},
   "outputs": [],
   "source": [
    "def get_protein():\n",
    "    protein = input(\"Enter the protein sequence: \")\n",
    "    protein = check_protein(protein)\n",
    "    return protein"
   ]
  },
  {
   "cell_type": "markdown",
   "metadata": {},
   "source": [
    "### 2.3. Implementación online"
   ]
  },
  {
   "cell_type": "markdown",
   "metadata": {},
   "source": [
    "Enlace a la documentación: [BLAST Record](https://biopython.org/docs/1.75/api/Bio.Blast.NCBIWWW.html)\n",
    "\n",
    "Los atributos indicados en el enunciado son:\n",
    "- Identificador: `alignment.hit_id`\n",
    "- Longitud: `alignment.length`\n",
    "- E-value: `hsp.expect`\n",
    "- Porcentaje de identidad: `hsp.identities / hsp.align_length` (número de identidades / longitud de la secuencia de consulta)\n"
   ]
  },
  {
   "cell_type": "code",
   "execution_count": 5,
   "metadata": {},
   "outputs": [],
   "source": [
    "from Bio.Blast import NCBIWWW, NCBIXML"
   ]
  },
  {
   "cell_type": "code",
   "execution_count": 12,
   "metadata": {},
   "outputs": [],
   "source": [
    "def search_protein_sequence(output_file=\"./results/blast_results.txt\"):\n",
    "\n",
    "    protein_sequence = get_protein()\n",
    "\n",
    "    result_handle = NCBIWWW.qblast(\"blastp\", \"nr\", protein_sequence)\n",
    "    blast_records = NCBIXML.parse(result_handle)\n",
    "\n",
    "    with open(output_file, \"w\") as f:\n",
    "        for blast_record in blast_records:\n",
    "            for alignment in blast_record.alignments:\n",
    "                for hsp in alignment.hsps:\n",
    "                    if hsp.expect < 0.001:\n",
    "                            result = {\n",
    "                                \"id\": alignment.hit_id,\n",
    "                                \"length\": alignment.length,\n",
    "                                \"evalue\": hsp.expect,\n",
    "                                \"identity_percentage\": (hsp.identities / hsp.align_length) * 100\n",
    "                            }\n",
    "                            f.write(str(result) + \"\\n\")\n",
    "                            \n",
    "    print(f\"Resultados guardados en: {output_file}\")"
   ]
  },
  {
   "cell_type": "code",
   "execution_count": 13,
   "metadata": {},
   "outputs": [
    {
     "name": "stdout",
     "output_type": "stream",
     "text": [
      "Resultados guardados en: ./results/blast_results.txt\n"
     ]
    }
   ],
   "source": [
    "search_protein_sequence()"
   ]
  },
  {
   "cell_type": "markdown",
   "metadata": {},
   "source": [
    "MVHLTPEEKSAVTALWGKVNVDEVGGEALGRLLVVYPWTQRFFESFGDLSTPDAVMGNPKVKAHGKKVL"
   ]
  },
  {
   "cell_type": "markdown",
   "metadata": {},
   "source": [
    "### 2.4. Implementación local\n",
    "\n",
    "Para usar las bases de datos proporcionadas por el NCBI, es necesario descargarlas mediante el comando `perl update_blastdb.pl --decompress nr`, donde `nr` es la base de datos de secuencias de proteínas no redundantes."
   ]
  },
  {
   "cell_type": "code",
   "execution_count": null,
   "metadata": {},
   "outputs": [],
   "source": []
  }
 ],
 "metadata": {
  "kernelspec": {
   "display_name": "bio",
   "language": "python",
   "name": "python3"
  },
  "language_info": {
   "codemirror_mode": {
    "name": "ipython",
    "version": 3
   },
   "file_extension": ".py",
   "mimetype": "text/x-python",
   "name": "python",
   "nbconvert_exporter": "python",
   "pygments_lexer": "ipython3",
   "version": "3.9.20"
  }
 },
 "nbformat": 4,
 "nbformat_minor": 2
}
