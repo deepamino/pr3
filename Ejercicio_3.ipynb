{
 "cells": [
  {
   "cell_type": "markdown",
   "metadata": {},
   "source": [
    "# Ejercicio 3: \n",
    "\n",
    "Escribe un programa en Python que use Biopython para hacer una búsqueda BLAST de una secuencia de ADN que leas de un fichero en formato FASTA. El programa debe hacer la búsqueda en la base de datos nr y filtrar los resultados por el organismo que elijas. El programa debe mostrar por pantalla el número de resultados obtenidos y el E-value medio de los mismos. Hágalo de forma online y local."
   ]
  },
  {
   "cell_type": "markdown",
   "metadata": {},
   "source": [
    "### 1.1. Instalación de BLAST\n",
    "\n",
    "1. Se descarga la versión para el equipo de BLAST desde el siguiente enlace: [BLAST](https://ftp.ncbi.nlm.nih.gov/blast/executables/blast+/LATEST/)\n",
    "2. Se ejecuta, en nuestro caso, el *.exe* descargado y se instala en el equipo.\n",
    "3. Se configura el *path* de BLAST como variable de entorno del sistema.\n",
    "4. Se verifica la instalación con el comando `blastn --version`."
   ]
  },
  {
   "cell_type": "markdown",
   "metadata": {},
   "source": [
    "### 1.2. Secuencia de ADN por teclado"
   ]
  },
  {
   "cell_type": "code",
   "execution_count": 1,
   "metadata": {},
   "outputs": [],
   "source": [
    "from processing.data_loader import DataLoaderFactory"
   ]
  },
  {
   "cell_type": "code",
   "execution_count": 2,
   "metadata": {},
   "outputs": [
    {
     "name": "stdout",
     "output_type": "stream",
     "text": [
      "Downloading sequence NM_000518.5 from nucleotide database\n",
      "File NM_000518_5.fasta created\n"
     ]
    }
   ],
   "source": [
    "sequence = DataLoaderFactory.get_loader('api').load(('NM_000518.5',), 'nucleotide')"
   ]
  },
  {
   "cell_type": "markdown",
   "metadata": {},
   "source": [
    "Así, se ha obtenido la siguiente secuencias de ADN para realizar la búsqueda BLAST:"
   ]
  },
  {
   "cell_type": "code",
   "execution_count": 3,
   "metadata": {},
   "outputs": [
    {
     "data": {
      "text/plain": [
       "[SeqRecord(seq=Seq('ACATTTGCTTCTGACACAACTGTGTTCACTAGCAACCTCAAACAGACACCATGG...CAA'), id='NM_000518.5', name='NM_000518.5', description='NM_000518.5 Homo sapiens hemoglobin subunit beta (HBB), mRNA', dbxrefs=[])]"
      ]
     },
     "execution_count": 3,
     "metadata": {},
     "output_type": "execute_result"
    }
   ],
   "source": [
    "sequence"
   ]
  },
  {
   "cell_type": "markdown",
   "metadata": {},
   "source": [
    "No obstante, nos interesa quedarnos únicamente con la secuencia en sí:"
   ]
  },
  {
   "cell_type": "code",
   "execution_count": 4,
   "metadata": {},
   "outputs": [],
   "source": [
    "sequence = sequence[0].seq"
   ]
  },
  {
   "cell_type": "markdown",
   "metadata": {},
   "source": [
    "### 1.3. Implementación online"
   ]
  },
  {
   "cell_type": "code",
   "execution_count": 5,
   "metadata": {},
   "outputs": [],
   "source": [
    "from Bio.Blast import NCBIWWW, NCBIXML"
   ]
  },
  {
   "cell_type": "code",
   "execution_count": 32,
   "metadata": {},
   "outputs": [],
   "source": [
    "def search_online_sequence(sequence, organism_filter):\n",
    "    result = NCBIWWW.qblast(\"blastn\", \"nr\", sequence)\n",
    "    blast_records = NCBIXML.read(result)\n",
    "\n",
    "    print(f\"Resultados BLAST para la secuencia sin filtrar por organismo:\")\n",
    "    print(f\"Número de alineamientos: {len(blast_records.alignments)}\")\n",
    "\n",
    "    best_alignment = blast_records.alignments[0]\n",
    "    best_hsp = best_alignment.hsps[0]\n",
    "    e_value = best_hsp.expect\n",
    "    description = best_alignment.title\n",
    "\n",
    "    print(f\"E-value del mejor resultado: {e_value}\")\n",
    "    print(f\"Descripción de la secuencia más similar: {description}\")\n",
    "\n",
    "    if not blast_records.alignments:\n",
    "        print(\"No se encontraron resultados.\")\n",
    "        return\n",
    "    \n",
    "    filtered_alignments = []\n",
    "    for alignment in blast_records.alignments:\n",
    "        if organism_filter.lower() in alignment.title.lower():\n",
    "            filtered_alignments.append(alignment)\n",
    "\n",
    "    if not filtered_alignments:\n",
    "        print(f\"No se encontraron resultados para el organismo '{organism_filter}'.\")\n",
    "        return\n",
    "    \n",
    "    num_results = len(filtered_alignments)\n",
    "    \n",
    "    best_alignment = filtered_alignments[0]\n",
    "    best_hsp = best_alignment.hsps[0]\n",
    "    e_value = best_hsp.expect\n",
    "    description = best_alignment.title\n",
    "    \n",
    "    print(\"\\nResultados BLAST filtrados por organismo:\")\n",
    "    print(f\"Número de resultados: {num_results}\")\n",
    "    print(f\"E-value del mejor resultado: {e_value}\")\n",
    "    print(f\"Descripción de la secuencia más similar: {description}\")"
   ]
  },
  {
   "cell_type": "code",
   "execution_count": 33,
   "metadata": {},
   "outputs": [
    {
     "name": "stdout",
     "output_type": "stream",
     "text": [
      "Resultados BLAST para la secuencia sin filtrar por organismo:\n",
      "Número de alineamientos: 50\n",
      "E-value del mejor resultado: 0.0\n",
      "Descripción de la secuencia más similar: gi|1401724401|ref|NM_000518.5| Homo sapiens hemoglobin subunit beta (HBB), mRNA\n",
      "\n",
      "Resultados BLAST filtrados por organismo:\n",
      "Número de resultados: 18\n",
      "E-value del mejor resultado: 0.0\n",
      "Descripción de la secuencia más similar: gi|1401724401|ref|NM_000518.5| Homo sapiens hemoglobin subunit beta (HBB), mRNA\n"
     ]
    }
   ],
   "source": [
    "search_online_sequence(sequence, 'Homo sapiens')"
   ]
  },
  {
   "cell_type": "markdown",
   "metadata": {},
   "source": [
    "En efecto, se ha encontrado la secuencia que se buscaba. Probaremos ahora a modificar la secuencia, añadiendo mutaciones aleatorias, con el fin de comprobar si el programa es capaz de encontrar la secuencia original."
   ]
  },
  {
   "cell_type": "code",
   "execution_count": 34,
   "metadata": {},
   "outputs": [],
   "source": [
    "import random"
   ]
  },
  {
   "cell_type": "code",
   "execution_count": 35,
   "metadata": {},
   "outputs": [],
   "source": [
    "def introduce_mutation(sequence, num_mutations=1):\n",
    "    bases = ['A', 'T', 'C', 'G']\n",
    "    sequence_list = list(sequence)\n",
    "\n",
    "    for _ in range(num_mutations):\n",
    "        mutation_idx = random.choice(range(len(sequence)))\n",
    "        current_base = sequence_list[mutation_idx]\n",
    "        possible_bases = [base for base in bases if base != current_base]\n",
    "        new_base = random.choice(possible_bases)\n",
    "        sequence_list[mutation_idx] = new_base\n",
    "    \n",
    "    mutated_sequence = ''.join(sequence_list)\n",
    "    return mutated_sequence"
   ]
  },
  {
   "cell_type": "code",
   "execution_count": 36,
   "metadata": {},
   "outputs": [
    {
     "name": "stdout",
     "output_type": "stream",
     "text": [
      "ACATTTGCTTCTGACACAACTGTGTTCACTAGCAACCTCAAACAGACACCATGGTGCATCTGACTCCTGAGGAGAAGTCTGCCGTTACTGCCCTGTGGGGCAAGGTGAACGTGGATGAAGTTGGTGGTGAGGCCCTGGGCAGGCTGCTGGTGGTCTACCCTTGGACCCAGAGGTTCTTTGAGTCCTTTGGGGATCTGTCCACTCCTGATGCTGTTATGGGCAACCCTAAGGTGAAGGCTCATGGCAAGAAAGTGCTCGGTGCCTTTAGTGATGGCCTGGCTCACCTGGACAACCTCAAGGGCACCTTTGCCACACTGAGTGAGCTGCACTGTGACAAGCTGCACGTGGATCCTGAGAACTTCAGGCTCCTGGGCAACGTGCTGGTCTGTGTGCTGGCCCATCACTTTGGCAAAGAATTCACCCCACCAGTGCAGGCTGCCTATCAGAAAGTGGTGGCTGGTGTGGCTAATGCCCTGGCCCACAAGTATCACTAAGCTCGCTTTCTTGCTGTCCAATTTCTATTAAAGGTTCCTTTGTTCCCTAAGTCCAACTACTAAACTGGGGGATATTATGAAGGGCCTTGAGCATCTGGATTCTGCCTAATAAAAAACATTTATTTTCATTGCAA\n",
      "AAATTTGCTTCTGACACAACTGTGTTCACTAGCAACCTCAAACAGACACCATGGTGCATCTGACTCCTGAGGAGAAGTTTGCCGTTACTGCCCTGTGGGGCAAGGTGAACGTGGATGAAGTTGGTGTTGAGGCCGGGGGCAGTCTGCTGGTGGTCTACCCTTGGACCCAGAGGTTCTTTGAGTCCTTTGGGGATCTGTCCACTCCTGATGCTGTTATGGGCAACCCTAAGGTGAAGGCTCATGGCAAGAAAGTGCTCGGTGCCTTTAGTGATGGCCTGGCTCACCTGGACAACCTCAAGAGCACCTTTGTCACACTGAGTGAGCTGCACTGTGACAGGCTGCACGTGGATCCTGAGAACTTCAGGCTCCTGGGCAACGTGCTGGTCTGTGTGCTGGCCCATCACTTTGGCAAAGGATTCATCCCACCAGTGCAGGCTGCCTGTCAGAAAGTGGTGGCTGGTGTTGCTAATGCCCTGGCCCACAAGTATCACTAAGCTCGCTTTCTTGCTGTCCAATTTCTATTAAAGGTTCCTTTGTTCCCTAAGTCCAACTACTAAACTGGGGCATATTATGAAGGGCCTTGAGCATCTGGATTCTGCCTAATAAAAAACATTTATTTTGATTGCAA\n"
     ]
    }
   ],
   "source": [
    "mutated_sequence = introduce_mutation(sequence, num_mutations=15)\n",
    "print(sequence)\n",
    "print(mutated_sequence)"
   ]
  },
  {
   "cell_type": "code",
   "execution_count": 37,
   "metadata": {},
   "outputs": [
    {
     "name": "stdout",
     "output_type": "stream",
     "text": [
      "Resultados BLAST para la secuencia sin filtrar por organismo:\n",
      "Número de alineamientos: 50\n",
      "E-value del mejor resultado: 0.0\n",
      "Descripción de la secuencia más similar: gi|1401724401|ref|NM_000518.5| Homo sapiens hemoglobin subunit beta (HBB), mRNA\n",
      "\n",
      "Resultados BLAST filtrados por organismo:\n",
      "Número de resultados: 17\n",
      "E-value del mejor resultado: 0.0\n",
      "Descripción de la secuencia más similar: gi|1401724401|ref|NM_000518.5| Homo sapiens hemoglobin subunit beta (HBB), mRNA\n"
     ]
    }
   ],
   "source": [
    "search_online_sequence(mutated_sequence, 'Homo sapiens')"
   ]
  },
  {
   "cell_type": "markdown",
   "metadata": {},
   "source": [
    "Vemos como seguimos obteniendo el mismo resultado. Esto es evidente, puesto que tan solo se ha alterado un 2.3% de la secuencia original."
   ]
  },
  {
   "cell_type": "code",
   "execution_count": 39,
   "metadata": {},
   "outputs": [
    {
     "data": {
      "text/plain": [
       "0.02388535031847134"
      ]
     },
     "execution_count": 39,
     "metadata": {},
     "output_type": "execute_result"
    }
   ],
   "source": [
    "15/len(sequence)"
   ]
  },
  {
   "cell_type": "markdown",
   "metadata": {},
   "source": [
    " Ahora bien, ¿y si filtrásemos para un organismo distinto al humano, del que se ha extarído la secuencia de ADN? Veamos, para ello, cuales son los organismos que se han obtenido, y para qué secuencias se han obtenido."
   ]
  },
  {
   "cell_type": "code",
   "execution_count": 6,
   "metadata": {},
   "outputs": [],
   "source": [
    "import pandas as pd"
   ]
  },
  {
   "cell_type": "code",
   "execution_count": 11,
   "metadata": {},
   "outputs": [],
   "source": [
    "def search_online_sequences(sequence):\n",
    "    result = NCBIWWW.qblast(\"blastn\", \"nr\", sequence)\n",
    "    blast_records = NCBIXML.read(result)\n",
    "\n",
    "    data = []\n",
    "\n",
    "    if not blast_records.alignments:\n",
    "        print(\"No se encontraron resultados.\")\n",
    "        return pd.DataFrame()\n",
    "    \n",
    "    for alignment in blast_records.alignments:\n",
    "        organism = alignment.title\n",
    "        sequence_data = alignment.hsps[0].align_length\n",
    "        e_value = alignment.hsps[0].expect\n",
    "        \n",
    "        data.append({\n",
    "            \"Organismo\": organism,\n",
    "            \"Secuencia\": sequence_data,\n",
    "            \"E-value\": e_value\n",
    "        })\n",
    "    \n",
    "    if not data:\n",
    "        print(f\"No se encontraron resultados.\")\n",
    "        return pd.DataFrame()\n",
    "    \n",
    "    df = pd.DataFrame(data)\n",
    "    return df"
   ]
  },
  {
   "cell_type": "code",
   "execution_count": 12,
   "metadata": {},
   "outputs": [],
   "source": [
    "results = search_online_sequences(sequence)"
   ]
  },
  {
   "cell_type": "code",
   "execution_count": 21,
   "metadata": {},
   "outputs": [
    {
     "name": "stdout",
     "output_type": "stream",
     "text": [
      "gi|1401724401|ref|NM_000518.5| Homo sapiens hemoglobin subunit beta (HBB), mRNA\n",
      "gi|2468480781|ref|XM_508242.5| PREDICTED: Pan troglodytes hemoglobin subunit beta (HBB), mRNA\n",
      "gi|2694496772|ref|XM_003819029.5| PREDICTED: Pan paniscus hemoglobin subunit beta (LOC100976465), mRNA\n",
      "gi|13937928|gb|BC007075.1| Homo sapiens hemoglobin, beta, mRNA (cDNA clone MGC:14540 IMAGE:4292125), complete cds\n",
      "gi|29436|emb|V00497.1| Human messenger RNA for beta-globin\n",
      "gi|40886940|gb|AY509193.1| Homo sapiens hemoglobin beta mRNA, complete cds\n",
      "gi|2695096866|ref|XM_019036164.3| PREDICTED: Gorilla gorilla gorilla hemoglobin subunit beta (LOC101126932), mRNA\n",
      "gi|2694676380|ref|XM_002822127.6| PREDICTED: Pongo abelii hemoglobin subunit beta (HBB), mRNA\n",
      "gi|2695876965|ref|XM_054440830.2| PREDICTED: Pongo pygmaeus hemoglobin subunit beta (HBB), mRNA\n",
      "gi|2491688240|ref|XM_055282707.1| PREDICTED: Symphalangus syndactylus hemoglobin subunit beta (HBB), mRNA\n",
      "gi|1743165722|ref|XM_004090649.3| PREDICTED: Nomascus leucogenys hemoglobin subunit beta (HBB), mRNA\n",
      "gi|2552984272|ref|XM_032166808.2| PREDICTED: Hylobates moloch hemoglobin subunit beta (HBB), mRNA\n",
      "gi|187940240|gb|EU694432.1| Homo sapiens hemoglobin beta chain variant (HBB) mRNA, HBB-Dothan allele, complete cds\n",
      "gi|6003533|gb|AF181989.1|AF181989 Homo sapiens hemoglobin beta subunit variant (HBB) mRNA, complete cds\n",
      "gi|13549111|gb|AF349114.1|AF349114 Homo sapiens beta globin chain variant (HBB) mRNA, complete cds\n",
      "gi|795328120|ref|XM_011963601.1| PREDICTED: Colobus angolensis palliatus hemoglobin, beta (HBB), mRNA\n",
      "gi|1825958351|ref|XM_033207068.1| PREDICTED: Trachypithecus francoisi hemoglobin subunit beta (LOC117081249), mRNA\n",
      "gi|1751218711|ref|XM_010363344.2| PREDICTED: Rhinopithecus roxellana hemoglobin subunit beta (LOC104662339), mRNA\n",
      "gi|1059130395|ref|XM_017861621.1| PREDICTED: Rhinopithecus bieti hemoglobin subunit beta (LOC108521664), mRNA\n",
      "gi|795109730|ref|XM_011975167.1| PREDICTED: Mandrillus leucophaeus hemoglobin subunit beta (LOC105535916), transcript variant X2, mRNA\n",
      "gi|1297635475|ref|XM_023209613.1| PREDICTED: Piliocolobus tephrosceles hemoglobin subunit beta (HBB), mRNA\n",
      "gi|2739242477|ref|XM_045371387.2| PREDICTED: Macaca fascicularis hemoglobin subunit beta (LOC101926697), mRNA\n",
      "gi|2309360106|ref|XM_050756508.1| PREDICTED: Macaca thibetana thibetana hemoglobin subunit beta (LOC126935257), mRNA\n",
      "gi|183944|gb|M25113.1|HUMHEMOB Human sickle beta-hemoglobin mRNA\n",
      "gi|4378803|gb|AF117710.1|AF117710 Homo sapiens hemoglobin beta chain (HBB) mRNA, complete cds\n",
      "gi|1050115306|ref|NM_001329918.1| Chlorocebus sabaeus hemoglobin subunit beta (HBB), mRNA\n",
      "gi|2715664602|ref|XM_012456809.2| PREDICTED: Aotus nancymaae hemoglobin subunit beta (LOC105720341), mRNA\n",
      "gi|795109736|ref|XM_011975168.1| PREDICTED: Mandrillus leucophaeus hemoglobin subunit beta (LOC105535916), transcript variant X3, mRNA\n",
      "gi|1411109004|ref|XM_025358026.1| PREDICTED: Theropithecus gelada hemoglobin subunit beta (LOC112607021), transcript variant X2, mRNA\n",
      "gi|795544769|ref|XM_011718821.1| PREDICTED: Macaca nemestrina hemoglobin subunit beta (LOC105468624), mRNA\n",
      "gi|1804407134|ref|XM_032240524.1| PREDICTED: Sapajus apella hemoglobin subunit beta (HBB), mRNA\n",
      "gi|725557265|ref|XM_003923369.2| PREDICTED: Saimiri boliviensis boliviensis hemoglobin subunit beta (LOC101036159), mRNA\n",
      "gi|1044422541|ref|XM_017507286.1| PREDICTED: Cebus imitator hemoglobin subunit beta (HBB), mRNA\n",
      "gi|90077965|dbj|AB171600.1| Macaca fascicularis brain cDNA clone: QflA-16301, similar to human hemoglobin, beta (HBB), mRNA, RefSeq: NM_000518.4\n",
      "gi|29445|emb|V00500.1| Human messenger RNA for beta-globin\n",
      "gi|675697671|ref|XM_002754891.3| PREDICTED: Callithrix jacchus hemoglobin subunit beta (LOC100410611), mRNA\n",
      "gi|23268448|gb|AY136510.1| Homo sapiens hemoglobin beta chain variant Hb S-Wake (HBB) mRNA, complete cds\n",
      "gi|164697558|dbj|AK311825.1| Homo sapiens cDNA, FLJ92086, Homo sapiens hemoglobin, beta (HBB), mRNA\n",
      "gi|6003531|gb|AF181832.1|AF181832 Homo sapiens hemoglobin beta subunit variant (HBB) mRNA, partial cds\n",
      "gi|640790084|ref|XM_008052701.1| PREDICTED: Carlito syrichta hemoglobin subunit beta (LOC103254684), mRNA\n",
      "gi|123992966|gb|DQ893159.2| Synthetic construct clone IMAGE:100005789; FLH194450.01X; RZPDo839B0680D hemoglobin, beta (HBB) gene, encodes complete protein\n",
      "gi|1101972663|tpe|LT548096.1| TPA_inf: Homo sapiens GLNA1 gene for globin A1\n",
      "gi|49168543|emb|CR536530.1| Homo sapiens full open reading frame cDNA clone RZPDo834D0222D for gene HBB, hemoglobin, beta; complete cds, incl. stopcodon >gi|1101972687|tpe|LT548108.1| TPA_inf: Pan troglodytes GLNA1 gene for globin A1\n",
      "gi|123999886|gb|DQ896453.2| Synthetic construct Homo sapiens clone IMAGE:100010913; FLH194446.01L; RZPDo839B0670D hemoglobin, beta (HBB) gene, encodes complete protein >gi|157928557|gb|EU176774.1| Synthetic construct Homo sapiens clone IMAGE:100011599; FLH263683.01L; RZPDo839F03256D hemoglobin, beta (HBB) gene, encodes complete protein\n",
      "gi|117645525|emb|AM393351.1| Synthetic construct Homo sapiens clone IMAGE:100002185 for hypothetical protein (HBB gene) >gi|117646599|emb|AM392537.1| Synthetic construct Homo sapiens clone IMAGE:100002184 for hypothetical protein (HBB gene)\n",
      "gi|61361759|gb|AY890157.1| Synthetic construct Homo sapiens clone FLH028849.01X hemoglobin beta (HBB) mRNA, complete cds\n",
      "gi|649119173|gb|KJ896959.1| Synthetic construct Homo sapiens clone ccsbBroadEn_06353 HBB gene, encodes complete protein\n",
      "gi|1147681442|emb|LT736709.1| Human ORFeome Gateway entry vector pENTR223-HBB, complete sequence\n",
      "gi|60833496|gb|AY894014.1| Synthetic construct Homo sapiens clone FLH130860.01L hemoglobin beta (HBB) mRNA, partial cds\n",
      "gi|49456780|emb|CR541913.1| Homo sapiens full open reading frame cDNA clone RZPDo834E0633D for gene HBB, hemoglobin, beta; complete cds, without stopcodon\n"
     ]
    }
   ],
   "source": [
    "hemoglobin = 0\n",
    "total = 0\n",
    "\n",
    "for i in range(len(results)):\n",
    "    print(results['Organismo'][i])\n",
    "    if 'hemoglobin' in results['Organismo'][i].lower():\n",
    "        hemoglobin += 1\n",
    "    total += 1"
   ]
  },
  {
   "cell_type": "code",
   "execution_count": 23,
   "metadata": {},
   "outputs": [
    {
     "name": "stdout",
     "output_type": "stream",
     "text": [
      "Un 86.0% de los resultados contienen la palabra 'hemoglobin'.\n"
     ]
    }
   ],
   "source": [
    "per = hemoglobin/total\n",
    "print(f\"Un {per*100}% de los resultados contienen la palabra 'hemoglobin'.\")"
   ]
  },
  {
   "cell_type": "markdown",
   "metadata": {},
   "source": [
    "### 1.4. Implementación local\n",
    "\n",
    "Una vez instalado blast, se procede a descargar la base de datos *nr* que se utilizará para la búsqueda. Para ello, se ejecuta el siguiente comando:\n"
   ]
  },
  {
   "cell_type": "code",
   "execution_count": 22,
   "metadata": {},
   "outputs": [
    {
     "name": "stderr",
     "output_type": "stream",
     "text": [
      "\"perl\" no se reconoce como un comando interno o externo,\n",
      "programa o archivo por lotes ejecutable.\n"
     ]
    }
   ],
   "source": [
    "!perl update_blastdb.pl --decompress nr"
   ]
  }
 ],
 "metadata": {
  "kernelspec": {
   "display_name": "Python 3",
   "language": "python",
   "name": "python3"
  },
  "language_info": {
   "codemirror_mode": {
    "name": "ipython",
    "version": 3
   },
   "file_extension": ".py",
   "mimetype": "text/x-python",
   "name": "python",
   "nbconvert_exporter": "python",
   "pygments_lexer": "ipython3",
   "version": "3.9.13"
  }
 },
 "nbformat": 4,
 "nbformat_minor": 2
}
