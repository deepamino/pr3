{
 "cells": [
  {
   "cell_type": "markdown",
   "metadata": {},
   "source": [
    "# Ejercicio 3: \n",
    "\n",
    "Escribe un programa en Python que use Biopython para hacer una búsqueda BLAST de una secuencia de ADN que leas de un fichero en formato FASTA. El programa debe hacer la búsqueda en la base de datos nr y filtrar los resultados por el organismo que elijas. El programa debe mostrar por pantalla el número de resultados obtenidos y el E-value medio de los mismos. Hágalo de forma online y local."
   ]
  },
  {
   "cell_type": "markdown",
   "metadata": {},
   "source": [
    "### 1.1. Instalación de BLAST\n",
    "\n",
    "1. Se descarga la versión para el equipo de BLAST desde el siguiente enlace: [BLAST](https://ftp.ncbi.nlm.nih.gov/blast/executables/blast+/LATEST/)\n",
    "2. Se ejecuta, en nuestro caso, el *.exe* descargado y se instala en el equipo.\n",
    "3. Se configura el *path* de BLAST como variable de entorno del sistema.\n",
    "4. Se verifica la instalación con el comando `blastn --version`."
   ]
  },
  {
   "cell_type": "markdown",
   "metadata": {},
   "source": [
    "### 1.2. Secuencia de ADN por teclado"
   ]
  },
  {
   "cell_type": "code",
   "execution_count": 1,
   "metadata": {},
   "outputs": [],
   "source": [
    "from debug_sequence.functions import check_sequence"
   ]
  },
  {
   "cell_type": "code",
   "execution_count": 2,
   "metadata": {},
   "outputs": [],
   "source": [
    "def get_sequence():\n",
    "    sequence = input(\"Introduce la secuencia de ADN: \").strip()\n",
    "    sequence = check_sequence(sequence)\n",
    "    return sequence"
   ]
  },
  {
   "cell_type": "code",
   "execution_count": 3,
   "metadata": {},
   "outputs": [
    {
     "ename": "NameError",
     "evalue": "name 'sequence' is not defined",
     "output_type": "error",
     "traceback": [
      "\u001b[1;31m---------------------------------------------------------------------------\u001b[0m",
      "\u001b[1;31mNameError\u001b[0m                                 Traceback (most recent call last)",
      "Cell \u001b[1;32mIn [3], line 4\u001b[0m\n\u001b[0;32m      2\u001b[0m \u001b[38;5;28;01mwith\u001b[39;00m \u001b[38;5;28mopen\u001b[39m(query_file, \u001b[38;5;124m\"\u001b[39m\u001b[38;5;124mw\u001b[39m\u001b[38;5;124m\"\u001b[39m) \u001b[38;5;28;01mas\u001b[39;00m f:\n\u001b[0;32m      3\u001b[0m     f\u001b[38;5;241m.\u001b[39mwrite(\u001b[38;5;124m\"\u001b[39m\u001b[38;5;124m>query_sequence\u001b[39m\u001b[38;5;130;01m\\n\u001b[39;00m\u001b[38;5;124m\"\u001b[39m)\n\u001b[1;32m----> 4\u001b[0m     f\u001b[38;5;241m.\u001b[39mwrite(\u001b[43msequence\u001b[49m)\n",
      "\u001b[1;31mNameError\u001b[0m: name 'sequence' is not defined"
     ]
    }
   ],
   "source": [
    "query_file = \"query.fasta\"\n",
    "with open(query_file, \"w\") as f:\n",
    "    f.write(\">query_sequence\\n\")\n",
    "    f.write(sequence)\n"
   ]
  },
  {
   "cell_type": "markdown",
   "metadata": {},
   "source": [
    "### 1.3. Implementación online"
   ]
  },
  {
   "cell_type": "code",
   "execution_count": 7,
   "metadata": {},
   "outputs": [],
   "source": [
    "from Bio.Blast import NCBIWWW, NCBIXML"
   ]
  },
  {
   "cell_type": "code",
   "execution_count": 8,
   "metadata": {},
   "outputs": [],
   "source": [
    "def search_online_sequence():\n",
    "    sequence = get_sequence()\n",
    "\n",
    "    result = NCBIWWW.qblast(\"blastn\", \"nt\", sequence)\n",
    "    blast_records = NCBIXML.read(result)\n",
    "    \n",
    "    if not blast_records.alignments:\n",
    "        print(\"No se encontraron resultados.\")\n",
    "        \n",
    "    num_results = len(blast_records.alignments)\n",
    "\n",
    "    best_alignment = blast_records.alignments[0]\n",
    "    best_hsp = best_alignment.hsps[0]\n",
    "    e_value = best_hsp.expect\n",
    "    description = best_alignment.title\n",
    "    \n",
    "    print(\"\\nResultados BLAST:\")\n",
    "    print(f\"Número de resultados: {num_results}\")\n",
    "    print(f\"E-value del mejor resultado: {e_value}\")\n",
    "    print(f\"Descripción de la secuencia más similar: {description}\")"
   ]
  },
  {
   "cell_type": "code",
   "execution_count": 9,
   "metadata": {},
   "outputs": [
    {
     "name": "stdout",
     "output_type": "stream",
     "text": [
      "\n",
      "Resultados BLAST:\n",
      "Número de resultados: 50\n",
      "E-value del mejor resultado: 2.08101e-37\n",
      "Descripción de la secuencia más similar: gi|1584133852|gb|MK476408.1| Homo sapiens voucher Bantu_1_1 hemoglobin subunit beta (HBB) gene, complete cds\n"
     ]
    }
   ],
   "source": [
    "search_online_sequence()"
   ]
  },
  {
   "cell_type": "markdown",
   "metadata": {},
   "source": [
    "### 1.4. Implementación local\n",
    "\n",
    "Para usar las bases de datos proporcionadas por el NCBI, es necesario descargarlas mediante el comando `perl update_blastdb.pl --decompress nt`, donde `nt` es la base de datos de nucleótidos. Para este ejercicio, se usará la base de datos `human_genome` y `nt`."
   ]
  },
  {
   "cell_type": "code",
   "execution_count": 10,
   "metadata": {},
   "outputs": [],
   "source": [
    "from Bio.Blast.Applications import NcbiblastnCommandline\n",
    "from Bio.Blast import NCBIXML\n",
    "import os\n",
    "import warnings\n",
    "\n",
    "warnings.simplefilter(\"ignore\")\n",
    "os.environ[\"BLASTDB\"] = input(\"Introduce la ruta de la base de datos de BLAST: \")\n",
    "os.environ[\"CMD\"] = input(\"Introduce la ruta del ejecutable de BLAST: \")"
   ]
  },
  {
   "cell_type": "markdown",
   "metadata": {},
   "source": []
  },
  {
   "cell_type": "code",
   "execution_count": 11,
   "metadata": {},
   "outputs": [],
   "source": [
    "def search_local_sequence():\n",
    "    sequence = get_sequence()\n",
    "\n",
    "    fasta_file = \"query.fasta\"\n",
    "    with open(fasta_file, \"w\") as f:\n",
    "        f.write(\">query\\n\")\n",
    "        f.write(sequence)\n",
    "    \n",
    "    blastn_cline = NcbiblastnCommandline(\n",
    "        cmd=os.environ[\"CMD\"],\n",
    "        query=fasta_file,\n",
    "        db=os.environ[\"BLASTDB\"],\n",
    "        evalue=0.001,\n",
    "        outfmt=5,\n",
    "        out=\"results.xml\"\n",
    "    )\n",
    "\n",
    "    blastn_cline()\n",
    "\n",
    "    with open(\"results.xml\") as result_handle:\n",
    "        blast_records = NCBIXML.parse(result_handle)\n",
    "        for blast_record in blast_records:\n",
    "            if blast_record.alignments:\n",
    "                print(f\"Número de resultados: {len(blast_record.alignments)}\")\n",
    "\n",
    "                best_alignment = blast_record.alignments[0]\n",
    "                best_hsp = best_alignment.hsps[0]\n",
    "                print(f\"E-value del mejor resultado: {best_hsp.expect}\")\n",
    "                print(f\"Descripción del mejor resultado: {best_alignment.title}\")\n",
    "            else:\n",
    "                print(\"No se encontraron coincidencias.\")\n",
    "    \n",
    "    os.remove(fasta_file)\n",
    "    os.remove(\"results.xml\")"
   ]
  },
  {
   "cell_type": "code",
   "execution_count": 12,
   "metadata": {},
   "outputs": [
    {
     "name": "stdout",
     "output_type": "stream",
     "text": [
      "Número de resultados: 1\n",
      "E-value del mejor resultado: 3.27844e-39\n",
      "Descripción del mejor resultado: gi|568815587|ref|NC_000011.10| Homo sapiens chromosome 11, GRCh38.p13 Primary Assembly\n"
     ]
    }
   ],
   "source": [
    "search_local_sequence()"
   ]
  },
  {
   "cell_type": "code",
   "execution_count": null,
   "metadata": {},
   "outputs": [],
   "source": []
  }
 ],
 "metadata": {
  "kernelspec": {
   "display_name": "Python 3",
   "language": "python",
   "name": "python3"
  },
  "language_info": {
   "codemirror_mode": {
    "name": "ipython",
    "version": 3
   },
   "file_extension": ".py",
   "mimetype": "text/x-python",
   "name": "python",
   "nbconvert_exporter": "python",
   "pygments_lexer": "ipython3",
   "version": "3.9.13"
  }
 },
 "nbformat": 4,
 "nbformat_minor": 2
}
